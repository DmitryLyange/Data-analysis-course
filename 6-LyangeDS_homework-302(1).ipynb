{
 "metadata": {
  "name": "",
  "signature": "sha256:787a9e9b0842761bdb587c7570b571e3a8e9587dce02d65fba7ed54adcc1e7a4"
 },
 "nbformat": 3,
 "nbformat_minor": 0,
 "worksheets": [
  {
   "cells": [
    {
     "cell_type": "heading",
     "level": 3,
     "metadata": {},
     "source": [
      "\u041f\u0440\u0430\u043a\u0442\u0438\u043a\u0430"
     ]
    },
    {
     "cell_type": "heading",
     "level": 5,
     "metadata": {},
     "source": [
      "\u041f\u0435\u0440\u0432\u0430\u044f \u0447\u0430\u0441\u0442\u044c ( 2 \u0431\u043b\u043e\u043a \u043a\u043e\u0434\u0430) \u0437\u0430\u0438\u043c\u0441\u0442\u0432\u043e\u0432\u0430\u043d\u0430 \u0438\u0437 5 \u043b\u0430\u0431\u043e\u0440\u0430\u0442\u043e\u0440\u043d\u043e\u0439 (\u043d\u043e \u043d\u0435\u043c\u043d\u043e\u0433\u043e \u0438\u0437\u043c\u0435\u043d\u0435\u043d \u043c\u0430\u0441\u0448\u0442\u0430\u0431 \u0440\u0438\u0441\u0443\u0435\u043c\u044b\u0445 \u0433\u0440\u0430\u0444\u0438\u043a\u043e\u0432)"
     ]
    },
    {
     "cell_type": "code",
     "collapsed": false,
     "input": [
      "import pandas\n",
      "import numpy\n",
      "import pylab\n",
      "%matplotlib inline\n",
      "import matplotlib.pyplot as plt\n",
      "\n",
      "from Levenshtein import distance\n",
      "\n",
      "import sklearn.svm\n",
      "from numpy import logspace, meshgrid"
     ],
     "language": "python",
     "metadata": {},
     "outputs": [],
     "prompt_number": 1
    },
    {
     "cell_type": "code",
     "collapsed": false,
     "input": [
      "def learn_stat(train_data, train_labels, test_data, test_labels, kernel, C):\n",
      "    svc = sklearn.svm.SVC(C = C, kernel = kernel)\n",
      "    svc.fit(train_data, train_labels)\n",
      "    train_score = svc.score(train_data, train_labels)\n",
      "    test_score = svc.score(test_data, test_labels)\n",
      "    support = len(svc.support_)\n",
      "    return train_score, test_score, support\n",
      "\n",
      "def plot_stat(train_data, train_labels, test_data, test_labels, kernel, minC, maxC, steps):\n",
      "\n",
      "    # numpy.logspace(start, stop, num=50, endpoint=True, base=10.0, dtype=None)[source]\n",
      "    logMinC = numpy.log(minC)\n",
      "    logMaxC = numpy.log(maxC)\n",
      "    eLog = numpy.math.e # \u043e\u0441\u043d\u043e\u0432\u0430\u043d\u0438\u0435\n",
      "    CArray = logspace(logMinC, logMaxC, num = steps, base = eLog, dtype = None)\n",
      "\n",
      "    train_scoreArray = list()\n",
      "    test_scoreArray = list()\n",
      "    supportArray = list()\n",
      "\n",
      "    for CItem in CArray:\n",
      "        train_score, test_score, support = learn_stat(train_data, train_labels, test_data, test_labels, kernel, CItem)\n",
      "        train_scoreArray.append(train_score)\n",
      "        test_scoreArray.append(test_score)\n",
      "        supportArray.append(support)\n",
      "    \n",
      "    # \u043f\u0435\u0440\u0435\u0432\u043e\u0434\u0438\u043c \u0432 \u043b\u043e\u0433\u0430\u0440\u0438\u0444\u043c\u0438\u0447\u0435\u0441\u043a\u0443\u044e \u0448\u043a\u0430\u043b\u0443 \u043e\u0442 \u0421\n",
      "    for CId in xrange(len(CArray)):\n",
      "        CArray[CId] = numpy.log(CArray[CId])\n",
      "\n",
      "\n",
      "    plt.plot(CArray, train_scoreArray)\n",
      "    plt.xlabel('log(C)')\n",
      "    plt.ylabel('Accuracy')\n",
      "    plt.ylim(0.4, 1.0)\n",
      "    plt.show()\n",
      "    \n",
      "    plt.plot(CArray, test_scoreArray)\n",
      "    plt.xlabel('log(C)')\n",
      "    plt.ylabel('Accuracy')\n",
      "    plt.ylim(0.4, 1.0)\n",
      "    plt.show()\n",
      "    \n",
      "    plt.plot(CArray, supportArray)\n",
      "    plt.xlabel('log(C)')\n",
      "    plt.ylabel('Support')\n",
      "    plt.show()"
     ],
     "language": "python",
     "metadata": {},
     "outputs": [],
     "prompt_number": 2
    },
    {
     "cell_type": "code",
     "collapsed": false,
     "input": [
      "# \u0427\u0438\u0441\u043b\u043e \u0441\u043b\u043e\u0432 \u0434\u043b\u044f \u043e\u0431\u0443\u0447\u0435\u043d\u0438\u044f \u0432\u043e\u0437\u044c\u043c\u0443 400, \u0434\u043b\u044f \u0442\u0435\u0441\u0442\u0438\u0440\u043e\u0432\u0430\u043d\u0438\u044f - 300\n",
      "\n",
      "amountOfTrainWords = 400\n",
      "amountOfTestWords = 300\n",
      "\n",
      "amountOfTrainAndTestWords = amountOfTrainWords + amountOfTestWords\n",
      "\n",
      "enFile = file('en.txt', 'r')\n",
      "enWordsArray = [line.strip() for line in enFile]\n",
      "\n",
      "frFile = file('fr.txt', 'r')\n",
      "frWordsArray = [line.strip() for line in frFile]\n",
      "\n",
      "wordsArray = numpy.hstack((enWordsArray, frWordsArray))\n",
      "\n",
      "trainAndTestArray = list()\n",
      "\n",
      "trainArray = list()\n",
      "trainIdArray = list()\n",
      "trainLabelsArray = list()\n",
      "\n",
      "for param in xrange(400):\n",
      "    wordId = numpy.random.random_integers(0, (len(wordsArray) - 1))\n",
      "    trainAndTestArray.append(wordsArray[wordId])\n",
      "    trainArray.append(wordsArray[wordId])\n",
      "    trainIdArray.append([len(trainAndTestArray) - 1])\n",
      "    if (wordId < len(enWordsArray)):\n",
      "        trainLabelsArray.append(1)\n",
      "    else:\n",
      "        trainLabelsArray.append(-1)\n",
      "\n",
      "#print trainIdArray\n",
      "\n",
      "testArray = list()\n",
      "testIdArray = list()\n",
      "testLabelsArray = list()\n",
      "\n",
      "# \u043d\u0435 \u0443\u0432\u0435\u0440\u0435\u043d, \u043d\u0430\u0434\u043e \u043b\u0438 \u0432\u044b\u0431\u0438\u0440\u0430\u0442\u044c \u0432 \u0442\u0435\u0441\u0442\u043e\u0432\u0443\u044e \u0432\u044b\u0431\u043e\u0440\u043a\u0443 \u0442\u043e\u043b\u044c\u043a\u043e \u0442\u0435 \u0441\u043b\u043e\u0432\u0430, \u043a\u043e\u0442\u043e\u0440\u044b\u0445 \u043d\u0435 \u0431\u044b\u043b\u043e \u0432 \u043e\u0431\u0443\u0447\u0430\u044e\u0449\u0435\u0439, \n",
      "# \u043f\u043e\u0441\u043a\u043e\u043b\u044c\u043a\u0443 \u0441\u043b\u043e\u0432\u0430 \u0432\u0441\u0435 \u0440\u0430\u043d\u0432\u043e \u043f\u043e\u0432\u0442\u043e\u0440\u044f\u044e\u0442\u0441\u044f \u0432 \u0444\u0430\u0439\u043b\u0435. \u041d\u0430 \u0432\u0441\u044f\u043a\u0438\u0439 \u0441\u043b\u0443\u0447\u0430\u0439 \u0432\u044b\u0431\u0435\u0440\u0443 \u0434\u0440\u0443\u0433\u0438\u0435 id \u0441\u043b\u043e\u0432 \u0438\u0437 \u043e\u0431\u0449\u0435\u0433\u043e \u043c\u0430\u0441\u0441\u0438\u0432\u0430 \u0441\u043b\u043e\u0432.\n",
      "foundTestids = 0\n",
      "\n",
      "while (foundTestids != 300):\n",
      "    wordId = numpy.random.random_integers(0, (len(wordsArray) - 1))\n",
      "    \n",
      "    if (wordId not in trainIdArray):\n",
      "        \n",
      "        foundTestids += 1\n",
      "        \n",
      "        trainAndTestArray.append(wordsArray[wordId])\n",
      "        testArray.append(wordsArray[wordId])\n",
      "        testIdArray.append([len(trainAndTestArray) - 1])\n",
      "        if (wordId < len(enWordsArray)):\n",
      "            testLabelsArray.append(1)\n",
      "        else:\n",
      "            testLabelsArray.append(-1)\n",
      "\n",
      "#print testIdArray\n",
      "\n",
      "#trainAndTestArray = numpy.hstack((trainArray, testArray))\n",
      "#trainAndTestIdArray = numpy.hstack((trainIdArray, testIdArray))\n",
      "#trainAndTestLabelsArray = numpy.hstack((trainLabelsArray, testLabelsArray))\n",
      "\n",
      "#print trainAndTestIdArray"
     ],
     "language": "python",
     "metadata": {},
     "outputs": [],
     "prompt_number": 3
    },
    {
     "cell_type": "code",
     "collapsed": false,
     "input": [
      "# \u0417\u0430\u0434\u0430\u043d\u0438\u0435 \u044f\u0434\u0440\u0430\n",
      "# kernel : string, optional (default=\u2019rbf\u2019)\n",
      "\n",
      "# \u041d\u0435 \u0443\u0432\u0435\u0440\u0435\u043d, \u043c\u043e\u0436\u043d\u043e \u043b\u0438 \u0438\u0441\u043f\u043e\u043b\u044c\u0437\u043e\u0432\u0430\u0442\u044c package python-levenshtein, \u043d\u043e \u043f\u043e\u0441\u043a\u043e\u043b\u044c\u043a\u0443 \u0432 \u0443\u0441\u043b\u043e\u0432\u0438\u0438 \u043f\u0440\u043e \u044d\u0442\u043e \u0441\u0442\u0440\u043e\u0433\u043e \u043d\u0435 \u0441\u043a\u0430\u0437\u0430\u043d\u043e \n",
      "# (\u043d\u0430\u0434\u043e \u043b\u0438 \u043f\u0438\u0441\u0430\u0442\u044c \u0441\u0430\u043c\u043e\u043c\u0443 \u0444\u0443\u043d\u043a\u0446\u0438\u044e \u043d\u0430\u0445\u043e\u0436\u0434\u0435\u043d\u0438\u044f \u0440\u0430\u0441\u0441\u0442\u043e\u044f\u043d\u0438\u044f \u041b\u0435\u0432\u0435\u043d\u0448\u0442\u0430\u0439\u043d\u0430), \u0442\u043e \u0438\u0441\u043f\u043e\u043b\u044c\u0437\u0443\u044e \u0443\u0436\u0435 \u0438\u043c\u0435\u044e\u0449\u0443\u044e\u0441\u044f \u0432 \u043f\u0430\u043a\u0435\u0442\u0435\n",
      "\n",
      "# \u0412\u0437\u044f\u043b \u0433\u0430\u0443\u0441\u0441\u043e\u0432\u0441\u043a\u043e\u0435 \u044f\u0434\u0440\u043e\n",
      "\n",
      "def kernel(x, y):\n",
      "    matrix = [\n",
      "                [numpy.math.exp(-(distance\n",
      "                          (trainAndTestArray[int(paramX[0])], trainAndTestArray[int(paramY[0])])) ** 2)\n",
      "                          for paramY in y]\n",
      "             for paramX in x]\n",
      "    return matrix"
     ],
     "language": "python",
     "metadata": {},
     "outputs": [],
     "prompt_number": 4
    },
    {
     "cell_type": "code",
     "collapsed": false,
     "input": [
      "plot_stat(trainIdArray, trainLabelsArray, testIdArray, testLabelsArray, kernel, 1e-2, 200, 30)"
     ],
     "language": "python",
     "metadata": {},
     "outputs": [
      {
       "metadata": {},
       "output_type": "display_data",
       "png": "[encoded data removed]",
       "text": [
        "<matplotlib.figure.Figure at 0x2f02780>"
       ]
      },
      {
       "metadata": {},
       "output_type": "display_data",
       "png": "[encoded data removed]",
       "text": [
        "<matplotlib.figure.Figure at 0x16eb3898>"
       ]
      },
      {
       "metadata": {},
       "output_type": "display_data",
       "png": "[encoded data removed]",
       "text": [
        "<matplotlib.figure.Figure at 0x199c3f28>"
       ]
      }
     ],
     "prompt_number": 5
    },
    {
     "cell_type": "markdown",
     "metadata": {},
     "source": [
      "\u041e\u0433\u0440\u0430\u043d\u0438\u0447\u0435\u043d\u0438\u044f \u043d\u0430 \u0421 \u0432\u0437\u044f\u043b, \u043e\u043f\u044f\u0442\u044c \u0436\u0435, \u0438\u0437 \u0432\u0442\u043e\u0440\u043e\u0439 \u0437\u0430\u0434\u0430\u0447\u0438. \u041c\u044b \u0432\u0438\u0434\u0438\u043c, \u0447\u0442\u043e \u0442\u043e\u0447\u043d\u043e\u0441\u0442\u044c \u043a\u043b\u0430\u0441\u0441\u0438\u0444\u0438\u043a\u0430\u0446\u0438\u0438 \u043d\u0430 \u0442\u0435\u0441\u0442\u043e\u0432\u043e\u0439 \u0432\u044b\u0431\u043e\u0440\u043a\u0435 \u0441\u043e\u0441\u0442\u0430\u0432\u043b\u044f\u0435\u0442 \u043c\u0435\u043d\u044c\u0448\u0435 0.6 \u043f\u0440\u0438 \u043d\u0438\u0437\u043a\u0438\u0445 \u043f\u043e\u043a\u0430\u0437\u0430\u0442\u0435\u043b\u044f\u0445 \u0421, \u043d\u043e \u0441 \u0440\u043e\u0441\u0442\u043e\u043c \u0421 \u043e\u043d\u0430 \u0434\u043e\u0440\u0430\u0441\u0442\u0430\u0435\u0442 \u0447\u0443\u0442\u044c \u043b\u0438 \u043d\u0435 \u0434\u043e 0.8.\n",
      "\u0413\u0440\u0430\u0444\u0438\u043a\u0438 \u043d\u0430\u043f\u043e\u043c\u0438\u043d\u0430\u044e\u0442 \u0441\u043e\u0431\u043e\u0439 \u0433\u0440\u0430\u0444\u0438\u043a\u0438 \u0434\u043b\u044f \u043b\u0438\u043d\u0435\u0439\u043d\u043e\u0433\u043e \u044f\u0434\u0440\u0430. \n",
      "\n",
      "PS \u043f\u0440\u0438 5 \u0437\u0430\u043f\u0443\u0441\u043a\u0435, \u043f\u0440\u043e\u0432\u0435\u0440\u044f\u044f \u043f\u0440\u043e\u0433\u0440\u0430\u043c\u043c\u0443, \u043f\u043e\u043b\u0443\u0447\u0438\u043b \u043f\u0440\u0438\u043c\u0435\u0440 \u043f\u0435\u0440\u0435\u043e\u0431\u0443\u0447\u0435\u043d\u0438\u044f - \u043d\u0430 \u043e\u0431\u0443\u0447\u0430\u044e\u0449\u0435\u0439 \u0430\u043a\u043a\u0443\u0440\u0430\u0442\u043d\u043e\u0441\u0442\u044c \u0440\u0430\u0441\u0442\u0435\u0442, \u043d\u0430 \u0442\u0435\u0441\u0442\u043e\u0432\u043e\u0439 - \u043f\u0430\u0434\u0430\u0435\u0442.\n",
      "\u0421\u043a\u0440\u0438\u043d\u0448\u043e\u0442 \u0431\u0443\u0434\u0435\u0442 \u043f\u0440\u0438\u043a\u0440\u0435\u043f\u043b\u0435\u043d \u0432 \u043f\u0438\u0441\u044c\u043c\u0435.\n",
      "\n",
      "PPS \u0432 \u0437\u0430\u0432\u0438\u0441\u0438\u043c\u043e\u0441\u0442\u0438 \u043e\u0442 \u0432\u044b\u0431\u0440\u0430\u043d\u043d\u044b\u0445 \u0434\u0430\u043d\u043d\u044b\u0445, \u0438\u043d\u043e\u0433\u0434\u0430 \u0430\u043a\u043a\u0443\u0440\u0430\u0442\u043d\u043e\u0441\u0442\u044c \u0441\u0440\u0430\u0437\u0443 \u043f\u0440\u0435\u0432\u044b\u0448\u0430\u0435\u0442 0.6 \u0438 \u043d\u0430 \u043e\u0431\u0443\u0447\u0430\u044e\u0449\u0435\u0439 \u0434\u043e\u0445\u043e\u0434\u0438\u0442 \u043f\u043e\u0447\u0442\u0438 \u0434\u043e 1.0."
     ]
    },
    {
     "cell_type": "code",
     "collapsed": false,
     "input": [],
     "language": "python",
     "metadata": {},
     "outputs": []
    }
   ],
   "metadata": {}
  }
 ]
}