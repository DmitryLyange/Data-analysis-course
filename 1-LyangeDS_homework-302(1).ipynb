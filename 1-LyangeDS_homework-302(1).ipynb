{
 "metadata": {
  "name": "",
  "signature": "sha256:25ce57d5150dcf24e73c3c32b74112610467db2acfeb93d337b6547be5c8d3d0"
 },
 "nbformat": 3,
 "nbformat_minor": 0,
 "worksheets": [
  {
   "cells": [
    {
     "cell_type": "code",
     "collapsed": false,
     "input": [
      "#Lyange Dmitry, 302(1)PI\n",
      "\n",
      "import numpy\n",
      "import pandas\n",
      "import pylab\n",
      "%matplotlib inline\n",
      "\n",
      "info = pandas.DataFrame.from_csv('train.csv')\n",
      "\n",
      "sex = info['Sex'].values\n",
      "p_class = info['Pclass'].values\n",
      "age = info['Age'].values\n",
      "fare = info['Fare'].values\n",
      "survived = info['Survived'].values"
     ],
     "language": "python",
     "metadata": {},
     "outputs": [],
     "prompt_number": 182
    },
    {
     "cell_type": "heading",
     "level": 4,
     "metadata": {},
     "source": [
      "First question"
     ]
    },
    {
     "cell_type": "code",
     "collapsed": false,
     "input": [
      "males_count = (sex == 'male').sum()\n",
      "females_count = (sex == 'female').sum()\n",
      "total_people_count = males_count + females_count\n",
      "males_per = round(float(males_count) / total_people_count, 3) * 100\n",
      "females_per = round(float(females_count) / total_people_count, 3) * 100\n",
      "\n",
      "labels1 = 'Males (' + str(males_count) + ' = ' + str(males_per) + '%)' , 'Females (' + str(females_count) + ' = ' + str(females_per) + '%)'\n",
      "fracs1 = [males, females]\n",
      "explode1 = (0.05, 0)\n",
      "\n",
      "pylab.pie(fracs1, explode=explode1, labels=labels1, startangle=90)"
     ],
     "language": "python",
     "metadata": {},
     "outputs": [
      {
       "metadata": {},
       "output_type": "pyout",
       "prompt_number": 183,
       "text": [
        "([<matplotlib.patches.Wedge at 0x13050470>,\n",
        "  <matplotlib.patches.Wedge at 0x13050c88>],\n",
        " [<matplotlib.text.Text at 0x13050f60>, <matplotlib.text.Text at 0x129ad278>])"
       ]
      },
      {
       "metadata": {},
       "output_type": "display_data",
       "png": "[encoded data removed]",
       "text": [
        "<matplotlib.figure.Figure at 0x13b5a860>"
       ]
      }
     ],
     "prompt_number": 183
    },
    {
     "cell_type": "heading",
     "level": 4,
     "metadata": {},
     "source": [
      "Second question"
     ]
    },
    {
     "cell_type": "code",
     "collapsed": false,
     "input": [
      "first_class_count = (p_class == 1).sum()\n",
      "second_class_count = (p_class == 2).sum()\n",
      "third_class_count = (p_class == 3).sum()\n",
      "\n",
      "first_class_per = round(float(first_class_count) / total_people_count, 3) * 100\n",
      "second_class_per = round(float(second_class_count) / total_people_count, 3) * 100\n",
      "third_class_per = round(float(third_class_count) / total_people_count, 3) * 100\n",
      "\n",
      "labels2 = '1st class (' + str(first_class_count) + ' = ' + str(first_class_per) + '%)' , '2nd class (' + str(second_class_count) + ' = ' + str(second_class_per) + '%)', '3rd class (' + str(third_class_count) + ' = ' + str(third_class_per) + '%)'\n",
      "fracs2 = [first_class_count, second_class_count, third_class_count]\n",
      "explode2 = (0.05, 0.05, 0)\n",
      "\n",
      "pylab.pie(fracs2, explode=explode2, labels=labels2, startangle=90)"
     ],
     "language": "python",
     "metadata": {},
     "outputs": [
      {
       "metadata": {},
       "output_type": "pyout",
       "prompt_number": 184,
       "text": [
        "([<matplotlib.patches.Wedge at 0x1302ee80>,\n",
        "  <matplotlib.patches.Wedge at 0x1302e748>,\n",
        "  <matplotlib.patches.Wedge at 0xf062358>],\n",
        " [<matplotlib.text.Text at 0x1302e4a8>,\n",
        "  <matplotlib.text.Text at 0x1302e630>,\n",
        "  <matplotlib.text.Text at 0x12daff60>])"
       ]
      },
      {
       "metadata": {},
       "output_type": "display_data",
       "png": "[encoded data removed]",
       "text": [
        "<matplotlib.figure.Figure at 0x13b5a7f0>"
       ]
      }
     ],
     "prompt_number": 184
    },
    {
     "cell_type": "heading",
     "level": 4,
     "metadata": {},
     "source": [
      "Third and fourth question"
     ]
    },
    {
     "cell_type": "code",
     "collapsed": false,
     "input": [
      "import matplotlib.pyplot as plt\n",
      "\n",
      "def average_age_for_sex_and_class_counter(sex_name, p_class_name):\n",
      "    this_sex_and_class_count = 0\n",
      "    total_age_for_this_group = 0\n",
      "    for i in xrange(len(info)):\n",
      "        if (sex[i] == sex_name) and (p_class[i] == p_class_name):\n",
      "            age_value = age[i]\n",
      "            if numpy.isnan(age_value) == False:\n",
      "                total_age_for_this_group += age_value\n",
      "                this_sex_and_class_count += 1\n",
      "    return round(total_age_for_this_group / this_sex_and_class_count, 2)\n",
      "\n",
      "male_1_average_age = average_age_for_sex_and_class_counter('male', 1)\n",
      "male_2_average_age = average_age_for_sex_and_class_counter('male', 2)\n",
      "male_3_average_age = average_age_for_sex_and_class_counter('male', 3)\n",
      "\n",
      "female_1_average_age = average_age_for_sex_and_class_counter('female', 1)\n",
      "female_2_average_age = average_age_for_sex_and_class_counter('female', 2)\n",
      "female_3_average_age = average_age_for_sex_and_class_counter('female', 3)\n",
      "\n",
      "\n",
      "men   = (male_1_average_age, male_2_average_age, male_3_average_age)\n",
      "women = (female_1_average_age, female_2_average_age, female_3_average_age)\n",
      "menStd     = (0, 0, 0)\n",
      "womenStd   = (0, 0, 0)\n",
      "ind = np.arange(3)   \n",
      "width = 0.4\n",
      "\n",
      "p1 = plt.bar(ind, men,   width, color='r', yerr=womenStd)\n",
      "p2 = plt.bar(ind, women, width, color='y',\n",
      "              yerr=menStd)\n",
      "\n",
      "plt.ylabel('Average Age')\n",
      "plt.title('Average age by class and gender')\n",
      "plt.xticks(ind+width/2., ('1 class', '2 class', '3 class') )\n",
      "plt.yticks(np.arange(0,81,10))\n",
      "plt.legend( (p1[0], p2[0]), ('Men', 'Women') )\n",
      "\n",
      "plt.show()"
     ],
     "language": "python",
     "metadata": {},
     "outputs": [
      {
       "metadata": {},
       "output_type": "display_data",
       "png": "[encoded data removed]",
       "text": [
        "<matplotlib.figure.Figure at 0x12a73f60>"
       ]
      }
     ],
     "prompt_number": 185
    },
    {
     "cell_type": "heading",
     "level": 4,
     "metadata": {},
     "source": [
      "Fifth question"
     ]
    },
    {
     "cell_type": "code",
     "collapsed": false,
     "input": [
      "survived_count = (survived == 1).sum()\n",
      "not_survived_count = total_people_count - survived_count\n",
      "\n",
      "survived_per = round(float(survived_count) / total_people_count, 3) * 100\n",
      "not_survived_per = round(float(not_survived_count) / total_people_count, 3) * 100\n",
      "\n",
      "labels3 = 'Survived (' + str(survived_count) + ' = ' + str(survived_per) + '%)' , 'Did not survive ('+ str(not_survived_count) + ' = ' + str(not_survived_per) + '%)'\n",
      "fracs3 = [survived_count, not_survived_count]\n",
      "explode3 = (0.05, 0)\n",
      "\n",
      "pylab.pie(fracs3, explode=explode3, labels=labels3, startangle=90)"
     ],
     "language": "python",
     "metadata": {},
     "outputs": [
      {
       "metadata": {},
       "output_type": "pyout",
       "prompt_number": 186,
       "text": [
        "([<matplotlib.patches.Wedge at 0x132fb630>,\n",
        "  <matplotlib.patches.Wedge at 0x12ee4160>],\n",
        " [<matplotlib.text.Text at 0x12ee4358>, <matplotlib.text.Text at 0x12ee4f60>])"
       ]
      },
      {
       "metadata": {},
       "output_type": "display_data",
       "png": "[encoded data removed]",
       "text": [
        "<matplotlib.figure.Figure at 0x130db8d0>"
       ]
      }
     ],
     "prompt_number": 186
    },
    {
     "cell_type": "heading",
     "level": 4,
     "metadata": {},
     "source": [
      "Sixth question"
     ]
    },
    {
     "cell_type": "code",
     "collapsed": false,
     "input": [
      "def average_age_for_survived():\n",
      "    this_count = 0\n",
      "    total_age_for_this_group = 0\n",
      "    for i in xrange(len(info)):\n",
      "        if survived[i] == 1:\n",
      "            age_value = age[i]\n",
      "            if numpy.isnan(age_value) == False:\n",
      "                total_age_for_this_group += age_value\n",
      "                this_count += 1\n",
      "    return round(total_age_for_this_group / this_count, 2)\n",
      "\n",
      "def average_age():\n",
      "    this_count = 0\n",
      "    total_age_for_this_group = 0\n",
      "    for i in xrange(len(info)):\n",
      "        age_value = age[i]\n",
      "        if numpy.isnan(age_value) == False:\n",
      "            total_age_for_this_group += age_value\n",
      "            this_count += 1\n",
      "    return round(total_age_for_this_group / this_count, 2)\n",
      "\n",
      "average_survived_age = average_age_for_survived()\n",
      "average_age = average_age()\n",
      "\n",
      "print 'Average survivers age : ' + str(average_survived_age)\n",
      "print 'Average total age : ' + str(average_age)\n",
      "\n",
      "if average_age < average_survived_age:\n",
      "    print('Older people sirvived')\n",
      "else:\n",
      "    print('Younger people sirvived')"
     ],
     "language": "python",
     "metadata": {},
     "outputs": [
      {
       "output_type": "stream",
       "stream": "stdout",
       "text": [
        "Average survivers age : 28.34\n",
        "Average total age : 29.7\n",
        "Younger people sirvived\n"
       ]
      }
     ],
     "prompt_number": 187
    },
    {
     "cell_type": "heading",
     "level": 4,
     "metadata": {},
     "source": [
      "Seventh question"
     ]
    },
    {
     "cell_type": "code",
     "collapsed": false,
     "input": [
      "def survivers_sex_counter(sex_name):\n",
      "    this_sex_count = 0\n",
      "    for i in xrange(len(info)):\n",
      "        if survived[i] == 1 and sex[i] == sex_name:\n",
      "            this_sex_count += 1\n",
      "    return this_sex_count\n",
      "\n",
      "female_survived_count = survivers_sex_counter('female')\n",
      "male_survived_count = survivers_sex_counter('male')\n",
      "\n",
      "female_survived_per = round(float(female_survived_count) / total_people_count, 3) * 100\n",
      "male_survived_per = round(float(male_survived_count) / total_people_count, 3) * 100\n",
      "\n",
      "labels7 = 'Male survived (' + str(male_survived_count) + ' = ' + str(male_survived_per) + '%)' , 'Female survived ('+ str(female_survived_count) + ' = ' + str(female_survived_per) + '%)'\n",
      "fracs7 = [male_survived_count, female_survived_count]\n",
      "explode7 = (0.05, 0)\n",
      "\n",
      "pylab.pie(fracs, explode=explode7, labels=labels7, startangle=90)"
     ],
     "language": "python",
     "metadata": {},
     "outputs": [
      {
       "metadata": {},
       "output_type": "pyout",
       "prompt_number": 188,
       "text": [
        "([<matplotlib.patches.Wedge at 0x128d7860>,\n",
        "  <matplotlib.patches.Wedge at 0x139ddeb8>],\n",
        " [<matplotlib.text.Text at 0x139dd160>, <matplotlib.text.Text at 0x139dd9b0>])"
       ]
      },
      {
       "metadata": {},
       "output_type": "display_data",
       "png": "[encoded data removed]",
       "text": [
        "<matplotlib.figure.Figure at 0x13b63e48>"
       ]
      }
     ],
     "prompt_number": 188
    },
    {
     "cell_type": "heading",
     "level": 4,
     "metadata": {},
     "source": [
      "Eigth question"
     ]
    },
    {
     "cell_type": "code",
     "collapsed": false,
     "input": [
      "fare_mean = numpy.mean(fare)\n",
      "fare_max = numpy.amax(fare)\n",
      "fare_min = numpy.amin(fare)\n",
      "\n",
      "print fare_mean\n",
      "print fare_max\n",
      "print fare_min"
     ],
     "language": "python",
     "metadata": {},
     "outputs": [
      {
       "output_type": "stream",
       "stream": "stdout",
       "text": [
        "32.2042079686\n",
        "512.3292\n",
        "0.0\n"
       ]
      }
     ],
     "prompt_number": 189
    },
    {
     "cell_type": "heading",
     "level": 4,
     "metadata": {},
     "source": [
      "Ninth question"
     ]
    },
    {
     "cell_type": "code",
     "collapsed": false,
     "input": [
      "def average_fare_for_survived():\n",
      "    this_count = 0\n",
      "    total_fare_for_this_group = 0\n",
      "    for i in xrange(len(info)):\n",
      "        if survived[i] == 1:\n",
      "            fare_value = fare[i]\n",
      "            if numpy.isnan(fare_value) == False:\n",
      "                total_fare_for_this_group += fare_value\n",
      "                this_count += 1\n",
      "    return round(total_fare_for_this_group / this_count, 2)\n",
      "\n",
      "average_survived_fare = average_fare_for_survived()\n",
      "average_fare = round(fare_mean, 2)\n",
      "\n",
      "print 'Average survivers fare : ' + str(average_survived_fare)\n",
      "print 'Average total fare : ' + str(average_fare)\n",
      "\n",
      "if average_fare < average_survived_fare:\n",
      "    print('Richer people sirvived')\n",
      "else:\n",
      "    print('Purer people sirvived')"
     ],
     "language": "python",
     "metadata": {},
     "outputs": [
      {
       "output_type": "stream",
       "stream": "stdout",
       "text": [
        "Average survivers fare : 48.4\n",
        "Average total fare : 32.2\n",
        "Richer people sirvived\n"
       ]
      }
     ],
     "prompt_number": 190
    },
    {
     "cell_type": "heading",
     "level": 4,
     "metadata": {},
     "source": [
      "Tenth question"
     ]
    },
    {
     "cell_type": "code",
     "collapsed": false,
     "input": [],
     "language": "python",
     "metadata": {},
     "outputs": []
    }
   ],
   "metadata": {}
  }
 ]
}