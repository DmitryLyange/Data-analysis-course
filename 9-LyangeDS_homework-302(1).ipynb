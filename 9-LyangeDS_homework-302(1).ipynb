{
 "metadata": {
  "name": "",
  "signature": "sha256:4e97be83f547b21b0fb59f1f52ef2519ee5bcf4dbafb9c1f97f3554b25d4bd47"
 },
 "nbformat": 3,
 "nbformat_minor": 0,
 "worksheets": [
  {
   "cells": [
    {
     "cell_type": "heading",
     "level": 3,
     "metadata": {},
     "source": [
      "\u041f\u0440\u0430\u043a\u0442\u0438\u043a\u0430 (\u0440\u0435\u0430\u043b\u0438\u0437\u043e\u0432\u0430\u043d\u044b 4 \u0438\u0437 6 \u0444\u0443\u043d\u043a\u0446\u0438\u0439, \u043d\u043e \u043d\u0435 \u0441\u0430\u043c\u0438 \u0437\u0430\u0434\u0430\u043d\u0438\u044f)"
     ]
    },
    {
     "cell_type": "code",
     "collapsed": false,
     "input": [
      "import pandas\n",
      "import numpy\n",
      "import pylab\n",
      "%matplotlib inline\n",
      "\n",
      "import matplotlib.pyplot as plt\n",
      "\n",
      "# class_posterior\n",
      "from scipy.stats import multivariate_normal"
     ],
     "language": "python",
     "metadata": {},
     "outputs": [],
     "prompt_number": 1
    },
    {
     "cell_type": "code",
     "collapsed": false,
     "input": [
      "# \u0444\u0443\u043d\u043a\u0446\u0438\u044f, \u0432\u044b\u0437\u044b\u0432\u0430\u0435\u043c\u0430\u044f \u0438\u0437 fit_parameters \u0438 fit_lda \u0434\u043b\u044f kind = diag, \u043a\u043e\u043d\u0432\u0435\u0440\u0442\u0438\u0440\u0443\u0435\u0442 \u043c\u0430\u0442\u0440\u0438\u0446\u0443 \u0432 \u0434\u0438\u0430\u0433\u043e\u043d\u0430\u043b\u044c\u043d\u0443\u044e\n",
      "def convertToDiag(matrix):\n",
      "    matrixSize = len(matrix)\n",
      "    \n",
      "    for rowIndex in xrange(matrixSize):\n",
      "        for columnIndex in xrange(matrixSize):\n",
      "            if (rowIndex != columnIndex):\n",
      "                matrix[rowIndex][columnIndex] = 0\n",
      "                \n",
      "    return matrix\n",
      "\n",
      "\n",
      "def findEqualsClass(x, y, classType):\n",
      "    equalsClass = list()\n",
      "    \n",
      "    for xIndex, yIndex in zip(x, y):\n",
      "        if (yIndex == classType):\n",
      "            equalsClass.append([xi])\n",
      "            \n",
      "    equalsClass = numpy.array(equalsClass).T\n",
      "    \n",
      "    return equalsClass"
     ],
     "language": "python",
     "metadata": {},
     "outputs": [],
     "prompt_number": 7
    },
    {
     "cell_type": "heading",
     "level": 6,
     "metadata": {},
     "source": [
      "fit_parameters"
     ]
    },
    {
     "cell_type": "code",
     "collapsed": false,
     "input": [
      "# numpy.mean, numpy.cov\n",
      "# numpy.cov(m, y=None, rowvar=1, bias=0, ddof=None)[source]\n",
      "# numpy.mean(a, axis=None, dtype=None, out=None, keepdims=False)[source]\n",
      "\n",
      "def fit_parameters(x, y, kind):\n",
      "    yEquals0Class = findEqualsClass(x, y, 0)\n",
      "    yEquals1Class = findEqualsClass(x, y, 1)\n",
      "\n",
      "    cov_1 = numpy.cov(yEquals0Class)\n",
      "    cov_2 = numpy.cov(yEquals1Class)\n",
      "    \n",
      "    if (kind == 'diag'):\n",
      "        cov_1 = convertToDiag(cov_1)\n",
      "        cov_2 = convertToDiag(cov_2)\n",
      "        \n",
      "    mean_1 = numpy.mean(yEquals0Class, 1)\n",
      "    mean_2 = numpy.mean(yEquals1Class, 1)\n",
      "        \n",
      "    return [(mean_1, cov_1), (mean_2, cov2)] "
     ],
     "language": "python",
     "metadata": {},
     "outputs": [],
     "prompt_number": 8
    },
    {
     "cell_type": "heading",
     "level": 6,
     "metadata": {},
     "source": [
      "fit_lda"
     ]
    },
    {
     "cell_type": "code",
     "collapsed": false,
     "input": [
      "def fit_lda(x, y, kind):\n",
      "    yEquals0Class = findEqualsClass(x, y, 0)\n",
      "    yEquals1Class = findEqualsClass(x, y, 1)\n",
      "    \n",
      "    cov_1 = numyp.cov(x, rowvar=0) \n",
      "    \n",
      "    if (kind == 'diag'):\n",
      "        cov_1 = convertToDiag(cov_1)\n",
      "        \n",
      "    cov_2 = cov_1\n",
      "    \n",
      "    mean_1 = numpy.mean(yEquals0Class, 1)\n",
      "    mean_2 = numpy.mean(yEquals1Class, 1)\n",
      "\n",
      "    return [(mean_1, cov_1), (mean_2, cov2)] "
     ],
     "language": "python",
     "metadata": {},
     "outputs": [],
     "prompt_number": 9
    },
    {
     "cell_type": "heading",
     "level": 6,
     "metadata": {},
     "source": [
      "class_posterior"
     ]
    },
    {
     "cell_type": "code",
     "collapsed": false,
     "input": [
      "# scipy.stats.multivariate_normal.logpdf(x, mean=None, cov=1, allow_singular=False)\n",
      "# \u043f\u043e\u043b\u0435\u0437\u043d\u043e\u0439 \u0444\u0443\u043d\u043a\u0446\u0438\u0435\u0439 \u0443\u043a\u0430\u0437\u0430\u043d logpdf, \u043d\u043e \u043d\u0430\u043c, \u0432\u0440\u043e\u0434\u0435 \u0431\u044b, \u043d\u0443\u0436\u043d\u043e \u0438\u0441\u043f\u043e\u043b\u044c\u0437\u043e\u0432\u0430\u0442\u044c \u043f\u0440\u043e\u0441\u0442\u043e pdf \u0434\u043b\u044f \u043d\u0430\u0445\u043e\u0436\u0434\u0435\u043d\u0438\u044f probability, \n",
      "# \u0430 \u043d\u0435 \u043b\u043e\u0433\u0430\u0440\u0438\u0444\u043c\u0430 \u043e\u0442 \u043d\u0435\u0435\n",
      "\n",
      "def class_posterior(x, class_params):\n",
      "    prob = [multivariate_normal.pdf(x, class_params[0][0], class_params[0][1]),\n",
      "             multivariate_normal.pdf(x, class_params[1][0], class_params[1][1])]\n",
      "\n",
      "    return prob"
     ],
     "language": "python",
     "metadata": {},
     "outputs": [],
     "prompt_number": 10
    },
    {
     "cell_type": "heading",
     "level": 6,
     "metadata": {},
     "source": [
      "score"
     ]
    },
    {
     "cell_type": "code",
     "collapsed": false,
     "input": [
      "def score(x, y, class_params):\n",
      "    classPosterior = class_posterior(x, class_params)\n",
      "    \n",
      "    preciseResultsCounter = 0\n",
      "    resultsCounter = len(classPosterior)\n",
      "\n",
      "    for rowIndex in xrange(resultsCounter):\n",
      "        \n",
      "        if (((classPosterior[rowIndex][0] < classPosterior[rowIndex][1]) and\n",
      "             (y[row_index] == 1)) or\n",
      "            ((classPosterior[rowIndex][0] >= classPosterior[rowIndex][1]) and\n",
      "             (y[row_index] == 0))):\n",
      "\n",
      "            preciseResultsCounter += 1\n",
      "\n",
      "    precision = preciseResultsCounter / float(resultsCounter)\n",
      "    \n",
      "    return precision"
     ],
     "language": "python",
     "metadata": {},
     "outputs": [],
     "prompt_number": 11
    },
    {
     "cell_type": "heading",
     "level": 6,
     "metadata": {},
     "source": [
      "loglikelihood"
     ]
    },
    {
     "cell_type": "markdown",
     "metadata": {},
     "source": [
      "\u041d\u0435 \u0441\u0434\u0435\u043b\u0430\u043d\u0430"
     ]
    },
    {
     "cell_type": "heading",
     "level": 6,
     "metadata": {},
     "source": [
      "plot_decision_rule"
     ]
    },
    {
     "cell_type": "markdown",
     "metadata": {},
     "source": [
      "\u041d\u0435 \u0441\u0434\u0435\u043b\u0430\u043d\u0430"
     ]
    },
    {
     "cell_type": "code",
     "collapsed": false,
     "input": [],
     "language": "python",
     "metadata": {},
     "outputs": []
    }
   ],
   "metadata": {}
  }
 ]
}